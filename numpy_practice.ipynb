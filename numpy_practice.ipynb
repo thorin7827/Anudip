{
 "cells": [
  {
   "cell_type": "markdown",
   "metadata": {},
   "source": []
  },
  {
   "cell_type": "code",
   "execution_count": 24,
   "metadata": {},
   "outputs": [
    {
     "name": "stdout",
     "output_type": "stream",
     "text": [
      "0\n",
      "1\n",
      "2\n",
      "(3, 3)\n"
     ]
    }
   ],
   "source": [
    "import numpy as np\n",
    "\n",
    "# Creating a NumPy array with a single element\n",
    "b = np.array(44)\n",
    "\n",
    "# Creating a NumPy array from a list\n",
    "l = [1, 2, 3, 4, 6, 6, 8]\n",
    "a = np.array(l)\n",
    "\n",
    "# Creating a 2D NumPy array from a list of lists\n",
    "l1 = [[1, 2, 3], [4, 5, 6], [7, 8, 9]]\n",
    "a2 = np.array(l1)\n",
    "\n",
    "# Printing the dimensions of the arrays\n",
    "print(b.ndim)  # Expected output: 0\n",
    "print(a.ndim)  # Expected output: 1\n",
    "print(a2.ndim) # Expected output: 2\n",
    "\n",
    "# Printing the shape of the 2D array\n",
    "print(a2.shape) # Expected output: (3, 3)\n",
    "# Create a NumPy array\n",
    "arr = np.array([1, 2, 3, 4, 5, 6, 7])\n",
    "\n",
    "# Create a slice of the array\n",
    "sarr = arr[1:5]\n",
    "\n",
    "# Print the original array\n",
    "print(\"Original array:\", arr)\n",
    "\n",
    "# Print the sliced array\n",
    "print(\"Sliced array:\", sarr)\n",
    "\n",
    "# Modify an element in the sliced array\n",
    "sarr[2] = 100\n",
    "\n",
    "# Print the arrays after modification\n",
    "print(\"Modified original array:\", arr)\n",
    "print(\"Modified sliced array:\", sarr)\n"
   ]
  },
  {
   "cell_type": "markdown",
   "metadata": {},
   "source": [
    "The copy owns the data and any changes made to the copy will not affect original array, and any changes made to the original array will not affect the copy.\n",
    "\n",
    "The view does not own the data and any changes made to the view will affect the original array, and any changes made to the original array will affect the view."
   ]
  },
  {
   "cell_type": "code",
   "execution_count": 25,
   "metadata": {},
   "outputs": [
    {
     "name": "stdout",
     "output_type": "stream",
     "text": [
      "[42  2  3  4  5]\n",
      "[1 2 3 4 5]\n"
     ]
    }
   ],
   "source": [
    "arr=np.array([1,2,3,4,5])\n",
    "x=arr.copy()\n",
    "arr[0]=42\n",
    "print(arr)\n",
    "print(x)"
   ]
  },
  {
   "cell_type": "markdown",
   "metadata": {},
   "source": [
    "numpy.zeros() in Python\n",
    "The numpy.zeros() function is one of the most significant functions which is used in machine learning programs widely. This function is used to generate an array containing zeros.\n",
    "The numpy.zeros() function provide a new array of given shape and type, which is filled with zeros."
   ]
  },
  {
   "cell_type": "code",
   "execution_count": 27,
   "metadata": {},
   "outputs": [
    {
     "name": "stdout",
     "output_type": "stream",
     "text": [
      "2-D array of zeros:\n",
      "[[0. 0. 0. 0.]\n",
      " [0. 0. 0. 0.]\n",
      " [0. 0. 0. 0.]]\n"
     ]
    }
   ],
   "source": [
    "import numpy as np\n",
    "\n",
    "# Create a 2-D array of zeros with shape (3, 4)\n",
    "arr = np.zeros((3, 4))\n",
    "\n",
    "print(\"2-D array of zeros:\")\n",
    "print(arr)\n"
   ]
  },
  {
   "cell_type": "markdown",
   "metadata": {},
   "source": [
    "The numpy.ones function in NumPy is used to create an array of a specified shape filled with ones. Here are some examples of how to use numpy.ones"
   ]
  },
  {
   "cell_type": "code",
   "execution_count": 26,
   "metadata": {},
   "outputs": [
    {
     "name": "stdout",
     "output_type": "stream",
     "text": [
      "2-D array of ones:\n",
      "[[1. 1. 1. 1.]\n",
      " [1. 1. 1. 1.]\n",
      " [1. 1. 1. 1.]]\n"
     ]
    }
   ],
   "source": [
    "import numpy as np\n",
    "\n",
    "# Create a 2-D array of ones with shape (3, 4)\n",
    "arr = np.ones((3, 4))\n",
    "\n",
    "print(\"2-D array of ones:\")\n",
    "print(arr)\n"
   ]
  },
  {
   "cell_type": "markdown",
   "metadata": {},
   "source": [
    "The eye tool returns a 2-D array with 1's as the diagonal and @'s elsewhere. The diagonal can be main, upper, or lower depending on the optional parameter k. A positive k is for the upper diagonal, a negative k is for the lower, and a 0k (default) is for the main diagonal."
   ]
  },
  {
   "cell_type": "code",
   "execution_count": 28,
   "metadata": {},
   "outputs": [
    {
     "name": "stdout",
     "output_type": "stream",
     "text": [
      "4x4 Matrix with ones on the diagonal above the main diagonal:\n",
      "[[0. 1. 0. 0.]\n",
      " [0. 0. 1. 0.]\n",
      " [0. 0. 0. 1.]\n",
      " [0. 0. 0. 0.]]\n"
     ]
    }
   ],
   "source": [
    "import numpy as np\n",
    "\n",
    "# Create a 4x4 matrix with ones on the diagonal above the main diagonal\n",
    "eye_matrix_offset = np.eye(4, k=1)\n",
    "\n",
    "print(\"4x4 Matrix with ones on the diagonal above the main diagonal:\")\n",
    "print(eye_matrix_offset)\n"
   ]
  },
  {
   "cell_type": "markdown",
   "metadata": {},
   "source": [
    "arr6="
   ]
  },
  {
   "cell_type": "code",
   "execution_count": 29,
   "metadata": {},
   "outputs": [
    {
     "name": "stdout",
     "output_type": "stream",
     "text": [
      "[[1 0 0 0 0]\n",
      " [0 2 0 0 0]\n",
      " [0 0 3 0 0]\n",
      " [0 0 0 4 0]\n",
      " [0 0 0 0 5]]\n"
     ]
    }
   ],
   "source": [
    "arr6=np.diag([1,2,3,4,5])\n",
    "print(arr6)\n"
   ]
  },
  {
   "cell_type": "markdown",
   "metadata": {},
   "source": [
    "randint() is an inbuilt function of the randon module in Python3. The random module gives access to various useful functions one of them being able to generate random numbers, which is randint()\n"
   ]
  },
  {
   "cell_type": "code",
   "execution_count": 1,
   "metadata": {},
   "outputs": [
    {
     "name": "stdout",
     "output_type": "stream",
     "text": [
      "[0.60537139 0.71552727 0.31346437 0.83911265]\n",
      "[[0.48511106 0.67827927 0.14892303]\n",
      " [0.77568014 0.25914504 0.91176729]]\n"
     ]
    }
   ],
   "source": [
    "import numpy as np\n",
    "\n",
    "# Generate a 1D array of 4 random numbers\n",
    "rand_1d = np.random.rand(4)\n",
    "print(rand_1d)\n",
    "\n",
    "# Generate a 2D array of shape (2, 3) with random numbers\n",
    "rand_2d = np.random.rand(2, 3)\n",
    "print(rand_2d)\n"
   ]
  },
  {
   "cell_type": "markdown",
   "metadata": {},
   "source": [
    "reshape()"
   ]
  },
  {
   "cell_type": "code",
   "execution_count": 2,
   "metadata": {},
   "outputs": [
    {
     "name": "stdout",
     "output_type": "stream",
     "text": [
      "Original array:\n",
      "[ 0  1  2  3  4  5  6  7  8  9 10 11]\n",
      "\n",
      "Reshaped array to 3x4:\n",
      "[[ 0  1  2  3]\n",
      " [ 4  5  6  7]\n",
      " [ 8  9 10 11]]\n",
      "\n",
      "Reshaped array to 4x3:\n",
      "[[ 0  1  2]\n",
      " [ 3  4  5]\n",
      " [ 6  7  8]\n",
      " [ 9 10 11]]\n",
      "\n",
      "Reshaped array to 2x2x3:\n",
      "[[[ 0  1  2]\n",
      "  [ 3  4  5]]\n",
      "\n",
      " [[ 6  7  8]\n",
      "  [ 9 10 11]]]\n"
     ]
    }
   ],
   "source": [
    "import numpy as np\n",
    "\n",
    "# Create a 1D array of 12 elements\n",
    "arr = np.arange(12)\n",
    "print(\"Original array:\")\n",
    "print(arr)\n",
    "\n",
    "# Reshape the array to 3x4\n",
    "reshaped_arr = arr.reshape(3, 4)\n",
    "print(\"\\nReshaped array to 3x4:\")\n",
    "print(reshaped_arr)\n",
    "\n",
    "# Reshape the array to 4x3\n",
    "reshaped_arr2 = arr.reshape(4, 3)\n",
    "print(\"\\nReshaped array to 4x3:\")\n",
    "print(reshaped_arr2)\n",
    "\n",
    "# Reshape the array to 2x2x3\n",
    "reshaped_arr3 = arr.reshape(2, 2, 3)\n",
    "print(\"\\nReshaped array to 2x2x3:\")\n",
    "print(reshaped_arr3)\n"
   ]
  },
  {
   "cell_type": "markdown",
   "metadata": {},
   "source": [
    "seed()"
   ]
  },
  {
   "cell_type": "code",
   "execution_count": 10,
   "metadata": {},
   "outputs": [
    {
     "name": "stdout",
     "output_type": "stream",
     "text": [
      "[[341 365 469 213  87]\n",
      " [276 170 323 119 467]\n",
      " [297 456 442   8 269]\n",
      " [267 450 369 217 285]\n",
      " [271 419  22  55 201]\n",
      " [ 38 461 231 187 269]]\n",
      "[[442   8 269]\n",
      " [369 217 285]\n",
      " [ 22  55 201]\n",
      " [231 187 269]]\n",
      "[[369 217]\n",
      " [ 22  55]]\n"
     ]
    }
   ],
   "source": [
    "import numpy as np\n",
    "\n",
    "# Set the seed for reproducibility\n",
    "np.random.seed(111)\n",
    "\n",
    "# Generate an array of 30 random integers between 1 and 500 and reshape it to 6x5\n",
    "ar = np.random.randint(1, 500, 30).reshape(6, 5)\n",
    "print(\"Original array:\")\n",
    "print(ar)\n",
    "\n",
    "# Slice and print the subarray from the 3rd row and 3rd column onwards\n",
    "print(\"\\nSubarray from the 3rd row and 3rd column onwards:\")\n",
    "print(ar[2:, 2:])\n",
    "\n",
    "# Slice and print the subarray from the 4th to 5th rows and 3rd to 4th columns\n",
    "print(\"\\nSubarray from the 4th to 5th rows and 3rd to 4th columns:\")\n",
    "print(ar[3:5, 2:4])\n"
   ]
  },
  {
   "cell_type": "markdown",
   "metadata": {},
   "source": []
  },
  {
   "cell_type": "code",
   "execution_count": 14,
   "metadata": {},
   "outputs": [
    {
     "name": "stdout",
     "output_type": "stream",
     "text": [
      "[ 1  2  3  4  5  6  7  8  9 10 11 12 13 14]\n",
      "[ 2  4  6  8 10 12 14]\n"
     ]
    }
   ],
   "source": [
    "import numpy as np\n",
    "ar=np.arange(1,15)\n",
    "print(ar)\n",
    "print(ar[ar%2==0])"
   ]
  },
  {
   "cell_type": "markdown",
   "metadata": {},
   "source": [
    "More array functions"
   ]
  },
  {
   "cell_type": "code",
   "execution_count": null,
   "metadata": {},
   "outputs": [],
   "source": [
    "import numpy as np\n",
    "\n",
    "# Define the array\n",
    "ar = np.array([1, 20, 5, 9, 3, 4, 8, 5, 6, 2, 25, 2, 22, 65, 3, 33])\n",
    "\n",
    "# Find and print the minimum value in the array\n",
    "print(\"Minimum value in the array:\", np.min(ar))\n",
    "\n",
    "# Find and print the maximum value in the array\n",
    "print(\"Maximum value in the array:\", np.max(ar))\n",
    "\n",
    "# Find and print the index of the minimum value in the array\n",
    "print(\"Index of the minimum value in the array:\", np.argmin(ar))\n",
    "\n",
    "# Find and print the index of the maximum value in the array\n",
    "print(\"Index of the maximum value in the array:\", np.argmax(ar))\n",
    "\n",
    "# Compute and print the square root of each element in the array\n",
    "print(\"Square root of each element in the array:\\n\", np.sqrt(ar))\n",
    "\n",
    "# Compute and print the sine of each element in the array\n",
    "print(\"Sine of each element in the array:\\n\", np.sin(ar))\n",
    "\n",
    "# Compute and print the cosine of each element in the array\n",
    "print(\"Cosine of each element in the array:\\n\", np.cos(ar))"
   ]
  }
 ],
 "metadata": {
  "kernelspec": {
   "display_name": "Python 3",
   "language": "python",
   "name": "python3"
  },
  "language_info": {
   "codemirror_mode": {
    "name": "ipython",
    "version": 3
   },
   "file_extension": ".py",
   "mimetype": "text/x-python",
   "name": "python",
   "nbconvert_exporter": "python",
   "pygments_lexer": "ipython3",
   "version": "3.8.10"
  }
 },
 "nbformat": 4,
 "nbformat_minor": 2
}
