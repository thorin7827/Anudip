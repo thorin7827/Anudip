{
 "cells": [
  {
   "cell_type": "markdown",
   "metadata": {},
   "source": [
    "Assignment of File Handling"
   ]
  },
  {
   "cell_type": "markdown",
   "metadata": {},
   "source": [
    "QUES to count the Occurence of word INDIA in file"
   ]
  },
  {
   "cell_type": "code",
   "execution_count": null,
   "metadata": {},
   "outputs": [
    {
     "name": "stdout",
     "output_type": "stream",
     "text": [
      "5\n"
     ]
    }
   ],
   "source": [
    "# Write content to the file\n",
    "file = open(\"india.txt\", 'w')\n",
    "file.write(\"INDIA INDIA INDIA INDIA hello \\n INDIA hello\")\n",
    "file.close()\n",
    "\n",
    "# Open the file in read mode\n",
    "file = open(\"india.txt\", 'r')\n",
    "\n",
    "# Read the content of the file\n",
    "content = file.read()\n",
    "\n",
    "# Split the content into words\n",
    "words = content.split()\n",
    "\n",
    "# Initialize the counter for the word \"INDIA\"\n",
    "count = 0\n",
    "\n",
    "# Iterate through the words and count occurrences of \"INDIA\"\n",
    "for word in words:\n",
    "    if word == \"INDIA\":\n",
    "        count += 1\n",
    "\n",
    "# Print the count\n",
    "print(count)\n",
    "\n",
    "# Close the file\n",
    "file.close()\n"
   ]
  },
  {
   "cell_type": "markdown",
   "metadata": {},
   "source": [
    "QUES count and display lines starting with \"T\" in text file story.txt"
   ]
  },
  {
   "cell_type": "code",
   "execution_count": null,
   "metadata": {},
   "outputs": [
    {
     "name": "stdout",
     "output_type": "stream",
     "text": [
      "The quick brown fox jumps over the lazy dog. \n",
      "\n",
      "Technology is advancing at an unprecedented pace.\n",
      "\n",
      "Tomorrow, we will explore more advanced topics.\n",
      "\n",
      "Taking small steps every day leads to big achievements.\n",
      "4\n"
     ]
    }
   ],
   "source": [
    "# Write content to the file\n",
    "file = open(\"story.txt\", 'w')\n",
    "file.write(\"The quick brown fox jumps over the lazy dog. \\n\")\n",
    "file.write(\"INDIA is a diverse country with rich cultural heritage.\\n\")\n",
    "file.write(\"Technology is advancing at an unprecedented pace.\\n\")\n",
    "file.write(\"Hello , welcome to the python class.\\n\")\n",
    "file.write(\"Tomorrow, we will explore more advanced topics.\\n\")\n",
    "file.write(\"Taking small steps every day leads to big achievements.\\n\")\n",
    "file.close()\n",
    "\n",
    "# Open the file in read mode\n",
    "file = open(\"story.txt\", 'r')\n",
    "\n",
    "# Read the content of the file\n",
    "count = 0\n",
    "content = file.readlines()\n",
    "\n",
    "# Iterate over each line in the file content\n",
    "for line in content:\n",
    "    if line[0] == 'T':\n",
    "        print(line, end='')  # Print the line that starts with 'T'\n",
    "        count += 1\n",
    "\n",
    "# Print the count of lines starting with 'T'\n",
    "print(\"Number of lines starting with 'T':\", count)\n",
    "\n",
    "# Close the file\n",
    "file.close()\n"
   ]
  },
  {
   "cell_type": "markdown",
   "metadata": {},
   "source": [
    "QUES 3 "
   ]
  },
  {
   "cell_type": "code",
   "execution_count": null,
   "metadata": {},
   "outputs": [
    {
     "name": "stdout",
     "output_type": "stream",
     "text": [
      "vowel are= 88\n",
      "consonent are= 155\n"
     ]
    }
   ],
   "source": [
    "# Write content to the file\n",
    "file = open(\"Myfile.txt\", 'w')\n",
    "file.write(\"The quick brown fox jumps over the lazy dog. \\n\")\n",
    "file.write(\"INDIA is a diverse country with rich cultural heritage.\\n\")\n",
    "file.write(\"Technology is advancing at an unprecedented pace.\\n\")\n",
    "file.write(\"Hello , welcome to the python class.\\n\")\n",
    "file.write(\"Tomorrow, we will explore more advanced topics.\\n\")\n",
    "file.write(\"Taking small steps every day leads to big achievements.\\n\")\n",
    "file.close()\n",
    "\n",
    "# Open the file in read mode\n",
    "file = open('Myfile.txt', 'r')\n",
    "\n",
    "# Read the content of the file\n",
    "data = file.read()\n",
    "\n",
    "# Initialize counters for vowels and consonants\n",
    "count_V, count_C = 0, 0\n",
    "\n",
    "# Iterate over each character in the file content\n",
    "for char in data:\n",
    "    if char.lower() in \"aeiou\":\n",
    "        count_V += 1\n",
    "    elif char.lower() in \"bcdfghjklmnpqrstvwxyz\":\n",
    "        count_C += 1\n",
    "\n",
    "# Print the counts\n",
    "print(\"Number of vowels:\", count_V)\n",
    "print(\"Number of consonants:\", count_C)\n",
    "\n",
    "# Close the file\n",
    "file.close()\n"
   ]
  },
  {
   "cell_type": "markdown",
   "metadata": {},
   "source": [
    "ques 4"
   ]
  },
  {
   "cell_type": "code",
   "execution_count": null,
   "metadata": {},
   "outputs": [
    {
     "name": "stdout",
     "output_type": "stream",
     "text": [
      "INDIA\n",
      "is\n",
      "is\n",
      "vowel are= 3\n"
     ]
    }
   ],
   "source": [
    "# Write content to the file\n",
    "file = open(\"file.txt\", 'w')\n",
    "file.write(\"The quick brown fox jumps over the lazy dog. \\n\")\n",
    "file.write(\"INDIA is a diverse country with rich cultural heritage.\\n\")\n",
    "file.write(\"Technology is advancing at an unprecedented pace.\\n\")\n",
    "file.write(\"Hello sarthak dwivedi, welcome to the python class.\\n\")\n",
    "file.write(\"Tomorrow, we will explore more advanced topics.\\n\")\n",
    "file.write(\"Taking small steps every day leads to big achievements.\\n\")\n",
    "file.close()\n",
    "\n",
    "# Open the file in read mode\n",
    "file = open('file.txt', 'r')\n",
    "\n",
    "# Read the content of the file\n",
    "data = file.read()\n",
    "\n",
    "# Split the content into words\n",
    "words = data.split()\n",
    "\n",
    "# Initialize the counter for words starting with 'i'\n",
    "count_i = 0\n",
    "\n",
    "# Iterate over the words and count those starting with 'i'\n",
    "for word in words:\n",
    "    if word[0].lower() == 'i':\n",
    "        count_i += 1\n",
    "        print(word)\n",
    "\n",
    "# Print the count\n",
    "print(\"Number of words starting with 'i':\", count_i)\n",
    "\n",
    "# Close the file\n",
    "file.close()\n"
   ]
  },
  {
   "cell_type": "markdown",
   "metadata": {},
   "source": [
    "QUES 5"
   ]
  },
  {
   "cell_type": "code",
   "execution_count": null,
   "metadata": {},
   "outputs": [
    {
     "name": "stdout",
     "output_type": "stream",
     "text": [
      "The quick brown fox jumps over the lazy dog.\n",
      "INDIA is a diverse country with rich cultural heritage.\n",
      "Technology is advancing at an unprecedented pace.\n",
      "Tomorrow, we will explore more advanced topics.\n",
      "Taking small steps every day leads to big achievements.\n"
     ]
    }
   ],
   "source": [
    "# Write content to the file\n",
    "file = open(\"notes.txt\", 'w')\n",
    "file.write(\"The quick brown fox jumps over the lazy dog. \\n\")\n",
    "file.write(\"INDIA is a diverse country with rich cultural heritage.\\n\")\n",
    "file.write(\"Technology is advancing at an unprecedented pace.\\n\")\n",
    "file.write(\"Hello .\\n\")\n",
    "file.write(\"Tomorrow, we will explore more advanced topics.\\n\")\n",
    "file.write(\"Taking small steps every day leads to big achievements.\\n\")\n",
    "file.close()\n",
    "\n",
    "# Open the file in read mode\n",
    "file = open('notes.txt', 'r')\n",
    "\n",
    "# Read the content of the file\n",
    "data = file.readlines()\n",
    "\n",
    "# Iterate over each line in the file content\n",
    "for line in data:\n",
    "    # Split the line into words and check if it has more than 5 words\n",
    "    if len(line.split()) > 5:\n",
    "        print(line.strip())\n",
    "\n",
    "# Close the file\n",
    "file.close()\n"
   ]
  },
  {
   "cell_type": "markdown",
   "metadata": {},
   "source": []
  },
  {
   "cell_type": "code",
   "execution_count": 2,
   "metadata": {},
   "outputs": [
    {
     "name": "stdout",
     "output_type": "stream",
     "text": [
      "[{'roll_no': '1', 'name': 'a', 'marks': '33'}, {'roll_no': '2', 'name': 'b', 'marks': '44'}, {'roll_no': '3', 'name': 'c', 'marks': '55'}, {'roll_no': '4', 'name': 'e', 'marks': '65'}, {'roll_no': '5', 'name': 'r', 'marks': '67'}]\n",
      "[{'roll_no': '1', 'name': 'a', 'marks': '33'}, {'roll_no': '2', 'name': 'b', 'marks': '44'}, {'roll_no': '3', 'name': 'c', 'marks': '55'}, {'roll_no': '4', 'name': 'e', 'marks': '65'}, {'roll_no': '5', 'name': 'r', 'marks': '67'}]\n"
     ]
    }
   ],
   "source": [
    "import pickle as p\n",
    "a=int(input(\"enter the number of data you want to enter\"))\n",
    "students = []\n",
    "for i in range(0,a):\n",
    "    # Collect student information\n",
    "    roll_no = input(\"Enter student's roll number: \")\n",
    "    name = input(\"Enter student's name: \")\n",
    "    marks = input(\"Enter student's marks: \")\n",
    "    student = {\n",
    "            \"roll_no\": roll_no,\n",
    "            \"name\": name,\n",
    "            \"marks\": marks\n",
    "        }\n",
    "        \n",
    "        # Add the student record to the list\n",
    "    students.append(student)\n",
    "print(students)\n",
    "file=open('Stu.dat', 'wb+')\n",
    "p.dump(students, file)\n",
    "file.seek(0)\n",
    "data=p.load(file)\n",
    "print(data)"
   ]
  },
  {
   "cell_type": "markdown",
   "metadata": {},
   "source": [
    "QUES 7 : Write a program to read a binary file \"Stu dat\" and display the record of students having marks greater than 81"
   ]
  },
  {
   "cell_type": "code",
   "execution_count": 5,
   "metadata": {},
   "outputs": [],
   "source": [
    "import pickle as p\n",
    "file=open('Stu.dat', 'rb')\n",
    "file.seek(0)\n",
    "data=p.load(file)\n",
    "for i in data:\n",
    "    if int(i[\"marks\"])>81:\n",
    "        print(i)\n",
    "file.close()\n"
   ]
  }
 ],
 "metadata": {
  "kernelspec": {
   "display_name": "Python 3",
   "language": "python",
   "name": "python3"
  },
  "language_info": {
   "codemirror_mode": {
    "name": "ipython",
    "version": 3
   },
   "file_extension": ".py",
   "mimetype": "text/x-python",
   "name": "python",
   "nbconvert_exporter": "python",
   "pygments_lexer": "ipython3",
   "version": "3.8.10"
  }
 },
 "nbformat": 4,
 "nbformat_minor": 2
}
